{
 "cells": [
  {
   "cell_type": "code",
   "execution_count": 9,
   "id": "25a4c52c",
   "metadata": {},
   "outputs": [
    {
     "name": "stdout",
     "output_type": "stream",
     "text": [
      "<class 'tuple'>\n",
      "Number of even numbers:  4\n",
      "Number of odd numbers:  5\n"
     ]
    }
   ],
   "source": [
    "count1 = 0\n",
    "count2 = 0\n",
    "numbers = (1,2,3,4,5,6,7,8,9)\n",
    "for i in numbers:\n",
    "    if(i%2 == 0):\n",
    "        count1+=1\n",
    "        \n",
    "    else:\n",
    "        count2+=1\n",
    "        \n",
    "print(\"Number of even numbers: \",count1)\n",
    "print(\"Number of odd numbers: \",count2)   "
   ]
  }
 ],
 "metadata": {
  "kernelspec": {
   "display_name": "Python 3 (ipykernel)",
   "language": "python",
   "name": "python3"
  },
  "language_info": {
   "codemirror_mode": {
    "name": "ipython",
    "version": 3
   },
   "file_extension": ".py",
   "mimetype": "text/x-python",
   "name": "python",
   "nbconvert_exporter": "python",
   "pygments_lexer": "ipython3",
   "version": "3.8.10"
  }
 },
 "nbformat": 4,
 "nbformat_minor": 5
}
